{
 "cells": [
  {
   "cell_type": "code",
   "execution_count": 2,
   "metadata": {
    "collapsed": true
   },
   "outputs": [],
   "source": [
    "import pandas as pd\n",
    "import matplotlib.pyplot as plt"
   ]
  },
  {
   "cell_type": "code",
   "execution_count": 3,
   "metadata": {},
   "outputs": [
    {
     "name": "stdout",
     "output_type": "stream",
     "text": [
      "Pipfile                   \u001b[30m\u001b[43mdata\u001b[m\u001b[m/                     \u001b[34mresults\u001b[m\u001b[m/\r\nREADME.md                 notebook.ipynb            run-optimizer.py\r\n\u001b[34mcode_S3R\u001b[m\u001b[m/                 plot_data.ipynb           run-single-experiment.py\r\n"
     ]
    }
   ],
   "source": [
    "path = 'results/'\n",
    "data = pd.read_csv(path)\n",
    "\n",
    "hyper_params = "
   ]
  },
  {
   "cell_type": "code",
   "execution_count": null,
   "metadata": {},
   "outputs": [],
   "source": []
  }
 ],
 "metadata": {
  "kernelspec": {
   "display_name": "Python 2",
   "language": "python",
   "name": "python2"
  },
  "language_info": {
   "codemirror_mode": {
    "name": "ipython",
    "version": 2
   },
   "file_extension": ".py",
   "mimetype": "text/x-python",
   "name": "python",
   "nbconvert_exporter": "python",
   "pygments_lexer": "ipython2",
   "version": "2.7.6"
  }
 },
 "nbformat": 4,
 "nbformat_minor": 0
}
