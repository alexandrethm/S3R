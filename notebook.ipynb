{
 "cells": [
  {
   "cell_type": "code",
   "execution_count": 12,
   "metadata": {},
   "outputs": [
    {
     "name": "stderr",
     "output_type": "stream",
     "text": [
      "/Users/alexandre/anaconda3/lib/python3.6/site-packages/scipy/ndimage/interpolation.py:600: UserWarning: From scipy 0.13.0, the output shape of zoom() is calculated with round() instead of int() - for these inputs the size of the returned array has changed.\n",
      "  \"the returned array has changed.\", UserWarning)\n"
     ]
    }
   ],
   "source": [
    "import numpy as np\n",
    "import torch\n",
    "import comet_ml\n",
    "from sklearn.model_selection import *\n",
    "from skorch import NeuralNetClassifier, callbacks\n",
    "\n",
    "from code_S3R import my_utils, my_nets\n",
    "\n",
    "hyper_params = {\n",
    "    'net_type': 'xyz',\n",
    "    'temporal_duration': 100,\n",
    "}\n",
    "\n",
    "grid_search_params = {\n",
    "    'lr': [1e-3, 1e-2],\n",
    "    'max_epochs': [10],\n",
    "    'batch_size': [16, 32],\n",
    "\n",
    "    'module__activation_fct': ['relu', 'prelu', 'swish'],\n",
    "}\n",
    "\n",
    "# -------------\n",
    "# Data\n",
    "# -------------\n",
    "\n",
    "# Load the dataset\n",
    "x_train, x_test, y_train_14, y_train_28, y_test_14, y_test_28 = my_utils.load_data()\n",
    "# Shuffle sequences and resize sequences\n",
    "x_train, x_test, y_train_14, y_train_28, y_test_14, y_test_28 = my_utils.preprocess_data(x_train, x_test,\n",
    "                                                                                         y_train_14,\n",
    "                                                                                         y_train_28,\n",
    "                                                                                         y_test_14, y_test_28,\n",
    "                                                                                         temporal_duration=hyper_params[\n",
    "                                                                                             'temporal_duration'])\n",
    "\n",
    "# Feeding it PyTorch tensors doesn't seem to work, but numpy arrays with the right format is okay\n",
    "x_train = x_train.astype(np.float32)\n",
    "x_test = x_test.astype(np.float32)\n",
    "y_train_14 = y_train_14.astype(np.long)\n",
    "y_test_14 = y_test_14.astype(np.long)\n",
    "y_train_28 = y_train_28.astype(np.long)\n",
    "y_test_28 = y_test_28.astype(np.long)\n",
    "\n",
    "y_train = y_train_14\n",
    "y_test = y_test_14"
   ]
  },
  {
   "cell_type": "code",
   "execution_count": 11,
   "metadata": {},
   "outputs": [
    {
     "data": {
      "text/plain": [
       "torch.Size([32, 100, 22])"
      ]
     },
     "execution_count": 11,
     "metadata": {},
     "output_type": "execute_result"
    }
   ],
   "source": [
    "net = NeuralNetClassifier(\n",
    "    my_nets.XYZNet,\n",
    "    criterion=torch.nn.CrossEntropyLoss,\n",
    "    optimizer=torch.optim.Adam,\n",
    "    max_epochs=10,\n",
    ")\n",
    "net.fit(x_train, y_train_14)\n",
    "y_proba = net.predict_proba(x_train)"
   ]
  },
  {
   "cell_type": "code",
   "execution_count": null,
   "metadata": {
    "collapsed": true
   },
   "outputs": [],
   "source": []
  }
 ],
 "metadata": {
  "kernelspec": {
   "display_name": "Python 3",
   "language": "python",
   "name": "python3"
  },
  "language_info": {
   "codemirror_mode": {
    "name": "ipython",
    "version": 3
   },
   "file_extension": ".py",
   "mimetype": "text/x-python",
   "name": "python",
   "nbconvert_exporter": "python",
   "pygments_lexer": "ipython3",
   "version": "3.6.3"
  }
 },
 "nbformat": 4,
 "nbformat_minor": 2
}
