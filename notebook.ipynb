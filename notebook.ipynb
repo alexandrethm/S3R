{
 "cells": [
  {
   "cell_type": "code",
   "execution_count": 1,
   "metadata": {},
   "outputs": [],
   "source": [
    "from datetime import datetime\n",
    "\n",
    "import numpy as np\n",
    "import comet_ml\n",
    "import torch\n",
    "from scipy import stats\n",
    "from sklearn.model_selection import *\n",
    "from skorch import NeuralNetClassifier, callbacks\n",
    "\n",
    "from code_S3R import my_nets\n",
    "import code_S3R.my_utils.other_utils as utils"
   ]
  },
  {
   "cell_type": "code",
   "execution_count": 2,
   "metadata": {},
   "outputs": [
    {
     "name": "stderr",
     "output_type": "stream",
     "text": [
      "/Users/alexandre/anaconda3/lib/python3.6/site-packages/scipy/ndimage/interpolation.py:600: UserWarning: From scipy 0.13.0, the output shape of zoom() is calculated with round() instead of int() - for these inputs the size of the returned array has changed.\n",
      "  \"the returned array has changed.\", UserWarning)\n"
     ]
    }
   ],
   "source": [
    "hyper_params = [\n",
    "    {\n",
    "        'max_epochs': [5], 'batch_size': [32],\n",
    "        'lr': [0.0001],\n",
    "        'module__preprocess': [None],\n",
    "        'module__conv_type': ['regular'],\n",
    "        'module__channel_list': [\n",
    "            [22],\n",
    "        ],\n",
    "        'module__activation_fct': ['prelu'],\n",
    "        'module__dropout': [0.4],\n",
    "    },\n",
    "]\n",
    "\n",
    "# -------------\n",
    "# Data\n",
    "# -------------\n",
    "\n",
    "# Load the dataset\n",
    "x_train, x_test, y_train_14, y_train_28, y_test_14, y_test_28 = utils.load_data()\n",
    "# Shuffle sequences and resize sequences\n",
    "x_train, x_test, y_train_14, y_train_28, y_test_14, y_test_28 = utils.preprocess_data(x_train, x_test,\n",
    "                                                                                      y_train_14,\n",
    "                                                                                      y_train_28,\n",
    "                                                                                      y_test_14, y_test_28,\n",
    "                                                                                      temporal_duration=100)\n",
    "\n",
    "# Feeding it PyTorch tensors doesn't seem to work, but numpy arrays with the right format is okay\n",
    "x_train = x_train.astype(np.float32)\n",
    "x_test = x_test.astype(np.float32)\n",
    "y_train_14 = y_train_14.astype(np.long)\n",
    "y_test_14 = y_test_14.astype(np.long)\n",
    "y_train_28 = y_train_28.astype(np.long)\n",
    "y_test_28 = y_test_28.astype(np.long)\n",
    "\n",
    "y_train = y_train_14\n",
    "y_test = y_test_14\n"
   ]
  },
  {
   "cell_type": "code",
   "execution_count": 3,
   "metadata": {},
   "outputs": [
    {
     "ename": "TypeError",
     "evalue": "__init__() got an unexpected keyword argument 'params_to_log'",
     "traceback": [
      "\u001b[0;31m---------------------------------------------------------------------------\u001b[0m",
      "\u001b[0;31mTypeError\u001b[0m                                 Traceback (most recent call last)",
      "\u001b[0;32m<ipython-input-3-5a0561dade8f>\u001b[0m in \u001b[0;36m<module>\u001b[0;34m()\u001b[0m\n\u001b[1;32m     12\u001b[0m     callbacks=[\n\u001b[1;32m     13\u001b[0m         ('my_cb', utils.MyCallback(params_to_log=utils.get_param_keys(hyper_params), search_run_id=search_run_id,\n\u001b[0;32m---> 14\u001b[0;31m                                    log_to_comet_ml=False, log_to_csv=True)),\n\u001b[0m\u001b[1;32m     15\u001b[0m         \u001b[0;34m(\u001b[0m\u001b[0;34m'early_stopping'\u001b[0m\u001b[0;34m,\u001b[0m \u001b[0mcallbacks\u001b[0m\u001b[0;34m.\u001b[0m\u001b[0mEarlyStopping\u001b[0m\u001b[0;34m(\u001b[0m\u001b[0mpatience\u001b[0m\u001b[0;34m=\u001b[0m\u001b[0;36m50\u001b[0m\u001b[0;34m)\u001b[0m\u001b[0;34m)\u001b[0m\u001b[0;34m\u001b[0m\u001b[0m\n\u001b[1;32m     16\u001b[0m     ],\n",
      "\u001b[0;31mTypeError\u001b[0m: __init__() got an unexpected keyword argument 'params_to_log'"
     ],
     "output_type": "error"
    }
   ],
   "source": [
    "# -------------\n",
    "# Perform grid search\n",
    "# -------------\n",
    "\n",
    "device = 'cuda' if torch.cuda.is_available() else 'cpu'\n",
    "search_run_id = '{:%m%d_%H%M%S}'.format(datetime.now())  # unique identifier for the grid_search / random_search run\n",
    "\n",
    "net = NeuralNetClassifier(\n",
    "    module=my_nets.Net,\n",
    "    criterion=torch.nn.CrossEntropyLoss,\n",
    "    optimizer=torch.optim.Adam,\n",
    "    callbacks=[\n",
    "        ('my_cb', utils.MyCallback(params_to_log=utils.get_param_keys(hyper_params), search_run_id=search_run_id,\n",
    "                                   log_to_comet_ml=False, log_to_csv=True)),\n",
    "        ('early_stopping', callbacks.EarlyStopping(patience=50))\n",
    "    ],\n",
    "    device=device\n",
    ")\n",
    "net.set_params(callbacks__print_log=None)  # deactivate default score printing each epoch\n",
    "\n",
    "gs = GridSearchCV(estimator=net, param_grid=hyper_params, refit=False, scoring='accuracy',\n",
    "                  verbose=2, cv=5, error_score=0)\n",
    "\n",
    "# gs = RandomizedSearchCV(estimator=net, param_distributions=hyper_params, refit=False, scoring='accuracy',\n",
    "#                        verbose=2, cv=5, error_score=0)\n",
    "\n",
    "gs.fit(x_train, y_train)\n",
    "\n",
    "# -------------\n",
    "# Save and log results\n",
    "# -------------\n",
    "\n",
    "utils.save_and_print_results(search_run_id=search_run_id, cv_results=gs.cv_results_, grid_search_params=hyper_params)\n"
   ]
  },
  {
   "cell_type": "code",
   "execution_count": 7,
   "metadata": {},
   "outputs": [],
   "source": [
    "net.history"
   ]
  },
  {
   "cell_type": "code",
   "execution_count": 13,
   "metadata": {
    "collapsed": true
   },
   "outputs": [],
   "source": [
    "import pandas as pd\n",
    "data = [13, 4, 2, 5, 2]*100\n",
    "data2 = [13, 4, 2, 5, 2]*100"
   ]
  },
  {
   "cell_type": "code",
   "execution_count": 14,
   "metadata": {},
   "outputs": [],
   "source": [
    "df = pd.DataFrame({\n",
    "    'params': {\n",
    "        'lr': 0.3,\n",
    "        'net_type': 'bla'\n",
    "    },\n",
    "    'data': {\n",
    "        'data': data,\n",
    "        'data2': data2\n",
    "    }\n",
    "})"
   ]
  },
  {
   "cell_type": "code",
   "execution_count": 25,
   "metadata": {},
   "outputs": [
    {
     "data": {
      "text/plain": [
       "',data,params\\ndata,\"[13, 4, 2, 5, 2, 13, 4, 2, 5, 2, 13, 4, 2, 5, 2, 13, 4, 2, 5, 2, 13, 4, 2, 5, 2, 13, 4, 2, 5, 2, 13, 4, 2, 5, 2, 13, 4, 2, 5, 2, 13, 4, 2, 5, 2, 13, 4, 2, 5, 2, 13, 4, 2, 5, 2, 13, 4, 2, 5, 2, 13, 4, 2, 5, 2, 13, 4, 2, 5, 2, 13, 4, 2, 5, 2, 13, 4, 2, 5, 2, 13, 4, 2, 5, 2, 13, 4, 2, 5, 2, 13, 4, 2, 5, 2, 13, 4, 2, 5, 2, 13, 4, 2, 5, 2, 13, 4, 2, 5, 2, 13, 4, 2, 5, 2, 13, 4, 2, 5, 2, 13, 4, 2, 5, 2, 13, 4, 2, 5, 2, 13, 4, 2, 5, 2, 13, 4, 2, 5, 2, 13, 4, 2, 5, 2, 13, 4, 2, 5, 2, 13, 4, 2, 5, 2, 13, 4, 2, 5, 2, 13, 4, 2, 5, 2, 13, 4, 2, 5, 2, 13, 4, 2, 5, 2, 13, 4, 2, 5, 2, 13, 4, 2, 5, 2, 13, 4, 2, 5, 2, 13, 4, 2, 5, 2, 13, 4, 2, 5, 2, 13, 4, 2, 5, 2, 13, 4, 2, 5, 2, 13, 4, 2, 5, 2, 13, 4, 2, 5, 2, 13, 4, 2, 5, 2, 13, 4, 2, 5, 2, 13, 4, 2, 5, 2, 13, 4, 2, 5, 2, 13, 4, 2, 5, 2, 13, 4, 2, 5, 2, 13, 4, 2, 5, 2, 13, 4, 2, 5, 2, 13, 4, 2, 5, 2, 13, 4, 2, 5, 2, 13, 4, 2, 5, 2, 13, 4, 2, 5, 2, 13, 4, 2, 5, 2, 13, 4, 2, 5, 2, 13, 4, 2, 5, 2, 13, 4, 2, 5, 2, 13, 4, 2, 5, 2, 13, 4, 2, 5, 2, 13, 4, 2, 5, 2, 13, 4, 2, 5, 2, 13, 4, 2, 5, 2, 13, 4, 2, 5, 2, 13, 4, 2, 5, 2, 13, 4, 2, 5, 2, 13, 4, 2, 5, 2, 13, 4, 2, 5, 2, 13, 4, 2, 5, 2, 13, 4, 2, 5, 2, 13, 4, 2, 5, 2, 13, 4, 2, 5, 2, 13, 4, 2, 5, 2, 13, 4, 2, 5, 2, 13, 4, 2, 5, 2, 13, 4, 2, 5, 2, 13, 4, 2, 5, 2, 13, 4, 2, 5, 2, 13, 4, 2, 5, 2, 13, 4, 2, 5, 2, 13, 4, 2, 5, 2, 13, 4, 2, 5, 2, 13, 4, 2, 5, 2, 13, 4, 2, 5, 2, 13, 4, 2, 5, 2, 13, 4, 2, 5, 2, 13, 4, 2, 5, 2, 13, 4, 2, 5, 2, 13, 4, 2, 5, 2, 13, 4, 2, 5, 2, 13, 4, 2, 5, 2, 13, 4, 2, 5, 2, 13, 4, 2, 5, 2, 13, 4, 2, 5, 2, 13, 4, 2, 5, 2, 13, 4, 2, 5, 2, 13, 4, 2, 5, 2, 13, 4, 2, 5, 2]\",\\ndata2,\"[13, 4, 2, 5, 2, 13, 4, 2, 5, 2, 13, 4, 2, 5, 2, 13, 4, 2, 5, 2, 13, 4, 2, 5, 2, 13, 4, 2, 5, 2, 13, 4, 2, 5, 2, 13, 4, 2, 5, 2, 13, 4, 2, 5, 2, 13, 4, 2, 5, 2, 13, 4, 2, 5, 2, 13, 4, 2, 5, 2, 13, 4, 2, 5, 2, 13, 4, 2, 5, 2, 13, 4, 2, 5, 2, 13, 4, 2, 5, 2, 13, 4, 2, 5, 2, 13, 4, 2, 5, 2, 13, 4, 2, 5, 2, 13, 4, 2, 5, 2, 13, 4, 2, 5, 2, 13, 4, 2, 5, 2, 13, 4, 2, 5, 2, 13, 4, 2, 5, 2, 13, 4, 2, 5, 2, 13, 4, 2, 5, 2, 13, 4, 2, 5, 2, 13, 4, 2, 5, 2, 13, 4, 2, 5, 2, 13, 4, 2, 5, 2, 13, 4, 2, 5, 2, 13, 4, 2, 5, 2, 13, 4, 2, 5, 2, 13, 4, 2, 5, 2, 13, 4, 2, 5, 2, 13, 4, 2, 5, 2, 13, 4, 2, 5, 2, 13, 4, 2, 5, 2, 13, 4, 2, 5, 2, 13, 4, 2, 5, 2, 13, 4, 2, 5, 2, 13, 4, 2, 5, 2, 13, 4, 2, 5, 2, 13, 4, 2, 5, 2, 13, 4, 2, 5, 2, 13, 4, 2, 5, 2, 13, 4, 2, 5, 2, 13, 4, 2, 5, 2, 13, 4, 2, 5, 2, 13, 4, 2, 5, 2, 13, 4, 2, 5, 2, 13, 4, 2, 5, 2, 13, 4, 2, 5, 2, 13, 4, 2, 5, 2, 13, 4, 2, 5, 2, 13, 4, 2, 5, 2, 13, 4, 2, 5, 2, 13, 4, 2, 5, 2, 13, 4, 2, 5, 2, 13, 4, 2, 5, 2, 13, 4, 2, 5, 2, 13, 4, 2, 5, 2, 13, 4, 2, 5, 2, 13, 4, 2, 5, 2, 13, 4, 2, 5, 2, 13, 4, 2, 5, 2, 13, 4, 2, 5, 2, 13, 4, 2, 5, 2, 13, 4, 2, 5, 2, 13, 4, 2, 5, 2, 13, 4, 2, 5, 2, 13, 4, 2, 5, 2, 13, 4, 2, 5, 2, 13, 4, 2, 5, 2, 13, 4, 2, 5, 2, 13, 4, 2, 5, 2, 13, 4, 2, 5, 2, 13, 4, 2, 5, 2, 13, 4, 2, 5, 2, 13, 4, 2, 5, 2, 13, 4, 2, 5, 2, 13, 4, 2, 5, 2, 13, 4, 2, 5, 2, 13, 4, 2, 5, 2, 13, 4, 2, 5, 2, 13, 4, 2, 5, 2, 13, 4, 2, 5, 2, 13, 4, 2, 5, 2, 13, 4, 2, 5, 2, 13, 4, 2, 5, 2, 13, 4, 2, 5, 2, 13, 4, 2, 5, 2, 13, 4, 2, 5, 2, 13, 4, 2, 5, 2, 13, 4, 2, 5, 2, 13, 4, 2, 5, 2, 13, 4, 2, 5, 2, 13, 4, 2, 5, 2, 13, 4, 2, 5, 2, 13, 4, 2, 5, 2]\",\\nlr,,0.3\\nnet_type,,bla\\n'"
      ]
     },
     "execution_count": 25,
     "metadata": {},
     "output_type": "execute_result"
    }
   ],
   "source": [
    "df.to_csv()"
   ]
  },
  {
   "cell_type": "code",
   "execution_count": null,
   "metadata": {
    "collapsed": true
   },
   "outputs": [],
   "source": []
  }
 ],
 "metadata": {
  "kernelspec": {
   "display_name": "Python 3",
   "language": "python",
   "name": "python3"
  },
  "language_info": {
   "codemirror_mode": {
    "name": "ipython",
    "version": 3
   },
   "file_extension": ".py",
   "mimetype": "text/x-python",
   "name": "python",
   "nbconvert_exporter": "python",
   "pygments_lexer": "ipython3",
   "version": "3.6.3"
  }
 },
 "nbformat": 4,
 "nbformat_minor": 2
}
